{
 "cells": [
  {
   "cell_type": "code",
   "execution_count": 1,
   "metadata": {},
   "outputs": [],
   "source": [
    "import pandas as pd\n",
    "from io import StringIO"
   ]
  },
  {
   "cell_type": "code",
   "execution_count": 2,
   "metadata": {},
   "outputs": [],
   "source": [
    "import re\n",
    "import numpy as np\n",
    "\n",
    "with open(\"VR_logs/1056_B1.dat\") as f:\n",
    "    lines = f.readlines()"
   ]
  },
  {
   "cell_type": "code",
   "execution_count": 3,
   "metadata": {},
   "outputs": [
    {
     "data": {
      "text/html": [
       "<div>\n",
       "<style scoped>\n",
       "    .dataframe tbody tr th:only-of-type {\n",
       "        vertical-align: middle;\n",
       "    }\n",
       "\n",
       "    .dataframe tbody tr th {\n",
       "        vertical-align: top;\n",
       "    }\n",
       "\n",
       "    .dataframe thead th {\n",
       "        text-align: right;\n",
       "    }\n",
       "</style>\n",
       "<table border=\"1\" class=\"dataframe\">\n",
       "  <thead>\n",
       "    <tr style=\"text-align: right;\">\n",
       "      <th></th>\n",
       "      <th>0</th>\n",
       "      <th>1</th>\n",
       "      <th>2</th>\n",
       "    </tr>\n",
       "  </thead>\n",
       "  <tbody>\n",
       "    <tr>\n",
       "      <th>0</th>\n",
       "      <td>2020/3/3</td>\n",
       "      <td>11:43:52.152</td>\n",
       "      <td>Picked up SM_Plate_Blueprint9\\n</td>\n",
       "    </tr>\n",
       "    <tr>\n",
       "      <th>1</th>\n",
       "      <td>2020/3/3</td>\n",
       "      <td>11:43:56.502</td>\n",
       "      <td>Picked up BP_FD_Fries_SweetPotato_C_2147482340\\n</td>\n",
       "    </tr>\n",
       "    <tr>\n",
       "      <th>2</th>\n",
       "      <td>2020/3/3</td>\n",
       "      <td>11:44:0.234</td>\n",
       "      <td>Placed BP_FD_Fries_SweetPotato_C_2147482340 on...</td>\n",
       "    </tr>\n",
       "    <tr>\n",
       "      <th>3</th>\n",
       "      <td>2020/3/3</td>\n",
       "      <td>11:44:0.56</td>\n",
       "      <td>Dropped BP_FD_Fries_SweetPotato_C_2147482340\\n</td>\n",
       "    </tr>\n",
       "    <tr>\n",
       "      <th>4</th>\n",
       "      <td>2020/3/3</td>\n",
       "      <td>11:44:13.296</td>\n",
       "      <td>Placed BP_FD_Rice_White_C_2147482338 onto plat...</td>\n",
       "    </tr>\n",
       "  </tbody>\n",
       "</table>\n",
       "</div>"
      ],
      "text/plain": [
       "          0             1                                                  2\n",
       "0  2020/3/3  11:43:52.152                    Picked up SM_Plate_Blueprint9\\n\n",
       "1  2020/3/3  11:43:56.502   Picked up BP_FD_Fries_SweetPotato_C_2147482340\\n\n",
       "2  2020/3/3   11:44:0.234  Placed BP_FD_Fries_SweetPotato_C_2147482340 on...\n",
       "3  2020/3/3    11:44:0.56     Dropped BP_FD_Fries_SweetPotato_C_2147482340\\n\n",
       "4  2020/3/3  11:44:13.296  Placed BP_FD_Rice_White_C_2147482338 onto plat..."
      ]
     },
     "execution_count": 3,
     "metadata": {},
     "output_type": "execute_result"
    }
   ],
   "source": [
    "temp = []\n",
    "for k in lines:\n",
    "    temp.append(k.split(' ', 2))\n",
    "    \n",
    "mat = pd.DataFrame(temp)\n",
    "mat.head()"
   ]
  },
  {
   "cell_type": "code",
   "execution_count": 4,
   "metadata": {},
   "outputs": [
    {
     "data": {
      "text/html": [
       "<div>\n",
       "<style scoped>\n",
       "    .dataframe tbody tr th:only-of-type {\n",
       "        vertical-align: middle;\n",
       "    }\n",
       "\n",
       "    .dataframe tbody tr th {\n",
       "        vertical-align: top;\n",
       "    }\n",
       "\n",
       "    .dataframe thead th {\n",
       "        text-align: right;\n",
       "    }\n",
       "</style>\n",
       "<table border=\"1\" class=\"dataframe\">\n",
       "  <thead>\n",
       "    <tr style=\"text-align: right;\">\n",
       "      <th></th>\n",
       "      <th>0</th>\n",
       "      <th>1</th>\n",
       "      <th>2</th>\n",
       "    </tr>\n",
       "  </thead>\n",
       "  <tbody>\n",
       "    <tr>\n",
       "      <th>34</th>\n",
       "      <td>2020/3/3</td>\n",
       "      <td>11:45:4.517</td>\n",
       "      <td>Dropped SM_FD_Cookies_ChocChip_9\\n</td>\n",
       "    </tr>\n",
       "    <tr>\n",
       "      <th>35</th>\n",
       "      <td>2020/3/3</td>\n",
       "      <td>11:45:4.762</td>\n",
       "      <td>Placed SM_FD_Cookies_ChocChip_9 onto plate SM_...</td>\n",
       "    </tr>\n",
       "    <tr>\n",
       "      <th>36</th>\n",
       "      <td>2020/3/3</td>\n",
       "      <td>11:45:45.542</td>\n",
       "      <td>Dropped SM_BeverageCup_Blueprint4_219\\n</td>\n",
       "    </tr>\n",
       "    <tr>\n",
       "      <th>37</th>\n",
       "      <td>2020/3/3</td>\n",
       "      <td>11:45:8.761</td>\n",
       "      <td>Dropped SM_Plate_Blueprint8\\n</td>\n",
       "    </tr>\n",
       "    <tr>\n",
       "      <th>38</th>\n",
       "      <td>2020/3/3</td>\n",
       "      <td>11:45:8.761</td>\n",
       "      <td>Picked up SM_Plate_Blueprint8\\n</td>\n",
       "    </tr>\n",
       "  </tbody>\n",
       "</table>\n",
       "</div>"
      ],
      "text/plain": [
       "           0             1                                                  2\n",
       "34  2020/3/3   11:45:4.517                 Dropped SM_FD_Cookies_ChocChip_9\\n\n",
       "35  2020/3/3   11:45:4.762  Placed SM_FD_Cookies_ChocChip_9 onto plate SM_...\n",
       "36  2020/3/3  11:45:45.542            Dropped SM_BeverageCup_Blueprint4_219\\n\n",
       "37  2020/3/3   11:45:8.761                      Dropped SM_Plate_Blueprint8\\n\n",
       "38  2020/3/3   11:45:8.761                    Picked up SM_Plate_Blueprint8\\n"
      ]
     },
     "execution_count": 4,
     "metadata": {},
     "output_type": "execute_result"
    }
   ],
   "source": [
    "mat = mat.replace(to_replace='None', value=np.nan).dropna()\n",
    "mat.tail()"
   ]
  },
  {
   "cell_type": "markdown",
   "metadata": {},
   "source": [
    "### Placed and dropped items in split second time"
   ]
  },
  {
   "cell_type": "code",
   "execution_count": 5,
   "metadata": {},
   "outputs": [
    {
     "data": {
      "text/plain": [
       "['Fries_SweetPotato_C_2147482340',\n",
       " 'Rice_White_C_2147482338',\n",
       " 'te_Blueprint9',\n",
       " 'Cookies_ChocChip_9',\n",
       " 'erageCup_Blueprint4_219']"
      ]
     },
     "execution_count": 5,
     "metadata": {},
     "output_type": "execute_result"
    }
   ],
   "source": [
    "plate = []\n",
    "for i in range(len(mat)):\n",
    "    try:\n",
    "        if \"Placed\" in mat[2][i] and \"Dropped\" in mat[2][i+1] and (float(mat[1][i][-4:]) - float(mat[1][i+1][-4:])) < 2.0000:\n",
    "              plate.append(mat[2][i+1].split()[1][6:])\n",
    "    except Exception as e:\n",
    "        print(e)\n",
    "            \n",
    "plate\n",
    "                "
   ]
  },
  {
   "cell_type": "markdown",
   "metadata": {},
   "source": [
    "### Check Placed onto Plate items"
   ]
  },
  {
   "cell_type": "code",
   "execution_count": 6,
   "metadata": {},
   "outputs": [],
   "source": [
    "on_plate = []\n",
    "\n",
    "for i in range(len(mat)):\n",
    "    try:\n",
    "        if \"onto plate\" in mat[2][i]:\n",
    "              on_plate.append(mat[2][i].split(\"onto\")[0].split()[1][6:])\n",
    "    except Exception as e:\n",
    "        print(e)"
   ]
  },
  {
   "cell_type": "code",
   "execution_count": 7,
   "metadata": {},
   "outputs": [
    {
     "data": {
      "text/plain": [
       "['Fries_SweetPotato_C_2147482340',\n",
       " 'Rice_White_C_2147482338',\n",
       " 'Chicken_Cajun_C_2147482336',\n",
       " 'Strawberry8',\n",
       " 'LemonSquare_7',\n",
       " 'LemonSquare_8',\n",
       " 'Cookies_ChocChip_9']"
      ]
     },
     "execution_count": 7,
     "metadata": {},
     "output_type": "execute_result"
    }
   ],
   "source": [
    "on_plate"
   ]
  },
  {
   "cell_type": "markdown",
   "metadata": {
    "tags": []
   },
   "source": [
    "#### Check in video wheter placed and dropped are linked to plates"
   ]
  },
  {
   "cell_type": "markdown",
   "metadata": {},
   "source": [
    "- Picked items and placed back\n",
    "- create events [pickup, return] with timestamp\n",
    "- food item event eg. "
   ]
  },
  {
   "cell_type": "markdown",
   "metadata": {},
   "source": [
    "### Drinks placed on plates"
   ]
  },
  {
   "cell_type": "code",
   "execution_count": 9,
   "metadata": {},
   "outputs": [
    {
     "data": {
      "text/plain": [
       "['SKA_BeverageLiquid_CokeDiet_90%\\n']"
      ]
     },
     "execution_count": 9,
     "metadata": {},
     "output_type": "execute_result"
    }
   ],
   "source": [
    "meal = []\n",
    "\n",
    "og_temp = pd.DataFrame(temp)\n",
    "drinks = [og_temp[0][i] for i in range(len(og_temp[2])) if \"SKA\" in og_temp[0][i]]\n",
    "drinks"
   ]
  },
  {
   "cell_type": "markdown",
   "metadata": {},
   "source": []
  },
  {
   "cell_type": "code",
   "execution_count": null,
   "metadata": {},
   "outputs": [],
   "source": []
  },
  {
   "cell_type": "markdown",
   "metadata": {},
   "source": []
  },
  {
   "cell_type": "code",
   "execution_count": null,
   "metadata": {},
   "outputs": [],
   "source": []
  }
 ],
 "metadata": {
  "kernelspec": {
   "display_name": "Python 3",
   "language": "python",
   "name": "python3"
  },
  "language_info": {
   "codemirror_mode": {
    "name": "ipython",
    "version": 3
   },
   "file_extension": ".py",
   "mimetype": "text/x-python",
   "name": "python",
   "nbconvert_exporter": "python",
   "pygments_lexer": "ipython3",
   "version": "3.7.10"
  }
 },
 "nbformat": 4,
 "nbformat_minor": 4
}
